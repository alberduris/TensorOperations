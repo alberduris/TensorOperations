{
 "cells": [
  {
   "cell_type": "markdown",
   "metadata": {},
   "source": [
    "# Numpy tensor operations\n",
    "\n",
    "## Tensor linear algebra"
   ]
  },
  {
   "cell_type": "code",
   "execution_count": 1,
   "metadata": {},
   "outputs": [
    {
     "data": {
      "text/plain": [
       "True"
      ]
     },
     "execution_count": 1,
     "metadata": {},
     "output_type": "execute_result"
    }
   ],
   "source": [
    "import numpy as np\n",
    "import tensorflow as tf\n",
    "tf.enable_eager_execution()\n",
    "d1 = 2\n",
    "d2 = 3\n",
    "d3 = 4\n",
    "tf.executing_eagerly() "
   ]
  },
  {
   "cell_type": "code",
   "execution_count": 2,
   "metadata": {},
   "outputs": [],
   "source": [
    "# Utils functions\n",
    "def print_array(x):\n",
    "    if x.numpy().ndim <= 3:\n",
    "        print('Tensor shape: {}\\n{}-Tensor:\\n{}\\n'.format(x.numpy().shape, x.numpy().ndim, x))\n",
    "    else:\n",
    "        print('{}-Tensor shape: {}\\n'.format(x.numpy().ndim, x.numpy().shape))"
   ]
  },
  {
   "cell_type": "markdown",
   "metadata": {},
   "source": [
    "## Tensor products"
   ]
  },
  {
   "cell_type": "markdown",
   "metadata": {},
   "source": [
    "### Matmul\n",
    "\n",
    "tf.matmul : Matrix product of two tensors"
   ]
  },
  {
   "cell_type": "code",
   "execution_count": 3,
   "metadata": {},
   "outputs": [
    {
     "name": "stdout",
     "output_type": "stream",
     "text": [
      "\"a\" and \"b\" are 2-D Tensors -> matrix multiplication\n",
      "Tensor shape: (2, 3)\n",
      "2-Tensor:\n",
      "<tf.Variable 'Variable:0' shape=(2, 3) dtype=int32, numpy=\n",
      "array([[0, 8, 8],\n",
      "       [8, 0, 4]])>\n",
      "\n",
      "Tensor shape: (3, 2)\n",
      "2-Tensor:\n",
      "<tf.Variable 'Variable:0' shape=(3, 2) dtype=int32, numpy=\n",
      "array([[2, 7],\n",
      "       [9, 7],\n",
      "       [7, 5]])>\n",
      "\n",
      "matrix multiplication\n",
      "Tensor shape: (2, 2)\n",
      "2-Tensor:\n",
      "[[128  96]\n",
      " [ 44  76]]\n",
      "\n"
     ]
    }
   ],
   "source": [
    "# \"a\" and \"b\" are 2-D Tensors\n",
    "print('\"a\" and \"b\" are 2-D Tensors -> matrix multiplication')\n",
    "x1 = tf.Variable(tf.random_uniform([d1, d2], 0, 10, dtype=tf.int32))\n",
    "print_array(x1)\n",
    "x2 = tf.Variable(tf.random_uniform([d2, d1], 0, 10, dtype=tf.int32))\n",
    "print_array(x2)\n",
    "print('matrix multiplication')\n",
    "y = tf.matmul(x1,x2) # outer product of tensors\n",
    "print_array(y)"
   ]
  },
  {
   "cell_type": "markdown",
   "metadata": {},
   "source": [
    "### Tensordot \n",
    "\n",
    "tf.tensordot : Compute tensor dot product along specified axes for tensors >= 1-D\n",
    "\n",
    " - axes = 0 : tensor product (a x b)\n",
    " - axes = 1 : tensor dot product (a . b)\n",
    " - axes = 2 : tensor double contraction (a : b)"
   ]
  },
  {
   "cell_type": "code",
   "execution_count": 4,
   "metadata": {},
   "outputs": [
    {
     "name": "stdout",
     "output_type": "stream",
     "text": [
      "axes = 0 : tensor product (a x b)\n",
      "Tensor shape: (2, 3)\n",
      "2-Tensor:\n",
      "<tf.Variable 'Variable:0' shape=(2, 3) dtype=int32, numpy=\n",
      "array([[3, 4, 5],\n",
      "       [1, 5, 8]])>\n",
      "\n",
      "Tensor shape: (2, 3)\n",
      "2-Tensor:\n",
      "<tf.Variable 'Variable:0' shape=(2, 3) dtype=int32, numpy=\n",
      "array([[1, 9, 0],\n",
      "       [2, 4, 9]])>\n",
      "\n",
      "tensor product (a x b)\n",
      "4-Tensor shape: (2, 3, 2, 3)\n",
      "\n",
      "axes = 1 : tensor dot product (a . b)\n",
      "Tensor shape: (2, 3)\n",
      "2-Tensor:\n",
      "<tf.Variable 'Variable:0' shape=(2, 3) dtype=int32, numpy=\n",
      "array([[0, 0, 3],\n",
      "       [1, 6, 8]])>\n",
      "\n",
      "Tensor shape: (3, 2)\n",
      "2-Tensor:\n",
      "<tf.Variable 'Variable:0' shape=(3, 2) dtype=int32, numpy=\n",
      "array([[6, 5],\n",
      "       [2, 0],\n",
      "       [7, 6]])>\n",
      "\n",
      "tensor dot product (a . b)\n",
      "Tensor shape: (2, 2)\n",
      "2-Tensor:\n",
      "[[21 18]\n",
      " [74 53]]\n",
      "\n",
      "axes = 2 : tensor double contraction (a : b)\n",
      "Tensor shape: (2, 3)\n",
      "2-Tensor:\n",
      "<tf.Variable 'Variable:0' shape=(2, 3) dtype=int32, numpy=\n",
      "array([[6, 8, 5],\n",
      "       [4, 9, 9]])>\n",
      "\n",
      "Tensor shape: (2, 3)\n",
      "2-Tensor:\n",
      "<tf.Variable 'Variable:0' shape=(2, 3) dtype=int32, numpy=\n",
      "array([[4, 6, 9],\n",
      "       [1, 6, 1]])>\n",
      "\n",
      "tensor double contraction (a : b)\n",
      "Tensor shape: ()\n",
      "0-Tensor:\n",
      "184\n",
      "\n"
     ]
    }
   ],
   "source": [
    "print('axes = 0 : tensor product (a x b)')\n",
    "x1 = tf.Variable(tf.random_uniform([d1, d2], 0, 10, dtype=tf.int32))\n",
    "print_array(x1)\n",
    "x2 = tf.Variable(tf.random_uniform([d1, d2], 0, 10, dtype=tf.int32))\n",
    "print_array(x2)\n",
    "print('tensor product (a x b)')\n",
    "y = tf.tensordot(x1, x2, axes=0) \n",
    "print_array(y)\n",
    "\n",
    "print('axes = 1 : tensor dot product (a . b)')\n",
    "x1 = tf.Variable(tf.random_uniform([d1, d2], 0, 10, dtype=tf.int32))\n",
    "print_array(x1)\n",
    "x2 = tf.Variable(tf.random_uniform([d2, d1], 0, 10, dtype=tf.int32))\n",
    "print_array(x2)\n",
    "print('tensor dot product (a . b)')\n",
    "y = tf.tensordot(x1, x2, axes=1)\n",
    "print_array(y)\n",
    "\n",
    "print('axes = 2 : tensor double contraction (a : b)')\n",
    "x1 = tf.Variable(tf.random_uniform([d1, d2], 0, 10, dtype=tf.int32))\n",
    "print_array(x1)\n",
    "x2 = tf.Variable(tf.random_uniform([d1, d2], 0, 10, dtype=tf.int32))\n",
    "print_array(x2)\n",
    "print('tensor double contraction (a : b)')\n",
    "y = tf.tensordot(x1, x2, axes=2)\n",
    "print_array(y)"
   ]
  }
 ],
 "metadata": {
  "kernelspec": {
   "display_name": "Python 3",
   "language": "python",
   "name": "python3"
  },
  "language_info": {
   "codemirror_mode": {
    "name": "ipython",
    "version": 3
   },
   "file_extension": ".py",
   "mimetype": "text/x-python",
   "name": "python",
   "nbconvert_exporter": "python",
   "pygments_lexer": "ipython3",
   "version": "3.6.1"
  }
 },
 "nbformat": 4,
 "nbformat_minor": 2
}
