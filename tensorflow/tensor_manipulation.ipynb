{
 "cells": [
  {
   "cell_type": "markdown",
   "metadata": {},
   "source": [
    "# Numpy tensor operations\n",
    "\n",
    "## Tensor manipulations"
   ]
  },
  {
   "cell_type": "code",
   "execution_count": 1,
   "metadata": {},
   "outputs": [
    {
     "data": {
      "text/plain": [
       "True"
      ]
     },
     "execution_count": 1,
     "metadata": {},
     "output_type": "execute_result"
    }
   ],
   "source": [
    "import numpy as np\n",
    "import tensorflow as tf\n",
    "tf.enable_eager_execution()\n",
    "d1 = 2\n",
    "d2 = 3\n",
    "d3 = 4\n",
    "tf.executing_eagerly() "
   ]
  },
  {
   "cell_type": "code",
   "execution_count": 2,
   "metadata": {},
   "outputs": [],
   "source": [
    "# Utils functions\n",
    "def print_array(x):\n",
    "    if x.numpy().ndim <= 3:\n",
    "        print('Tensor shape: {}\\n{}-Tensor:\\n{}\\n'.format(x.numpy().shape, x.numpy().ndim, x))\n",
    "    else:\n",
    "        print('{}-Tensor shape: {}\\n'.format(x.numpy().ndim, x.numpy().shape))"
   ]
  },
  {
   "cell_type": "markdown",
   "metadata": {},
   "source": [
    "## Changing tensor shape"
   ]
  },
  {
   "cell_type": "markdown",
   "metadata": {},
   "source": [
    "### Reshape \n",
    "\n",
    "tf.reshape : Gives a new shape to an array without changing its data"
   ]
  },
  {
   "cell_type": "code",
   "execution_count": 3,
   "metadata": {},
   "outputs": [
    {
     "name": "stdout",
     "output_type": "stream",
     "text": [
      "Tensor shape: (2, 3)\n",
      "2-Tensor:\n",
      "<tf.Variable 'Variable:0' shape=(2, 3) dtype=int32, numpy=\n",
      "array([[7, 6, 5],\n",
      "       [2, 2, 7]])>\n",
      "\n",
      "Tensor shape: (3, 2)\n",
      "2-Tensor:\n",
      "[[7 6]\n",
      " [5 2]\n",
      " [2 7]]\n",
      "\n",
      "Tensor shape: (1, 6)\n",
      "2-Tensor:\n",
      "[[7 6 5 2 2 7]]\n",
      "\n",
      "Tensor shape: (6, 1)\n",
      "2-Tensor:\n",
      "[[7]\n",
      " [6]\n",
      " [5]\n",
      " [2]\n",
      " [2]\n",
      " [7]]\n",
      "\n",
      "Tensor shape: (6,)\n",
      "1-Tensor:\n",
      "[7 6 5 2 2 7]\n",
      "\n",
      "Tensor shape: (2, 3)\n",
      "2-Tensor:\n",
      "[[7 6 5]\n",
      " [2 2 7]]\n",
      "\n"
     ]
    }
   ],
   "source": [
    "# 2D\n",
    "x = tf.Variable(tf.random_uniform([d1, d2], 0, 10, dtype=tf.int32))\n",
    "print_array(x)\n",
    "\n",
    "y = tf.reshape(x, [d2,d1]) # Transpose: interchange axis\n",
    "print_array(y)\n",
    "\n",
    "y = tf.reshape(x, [1,d1*d2]) # Flatten in axis 0 \n",
    "print_array(y)\n",
    "\n",
    "y = tf.reshape(x, [d1*d2, 1]) # Flatten in axis 1\n",
    "print_array(y)\n",
    "\n",
    "y = tf.reshape(x, [d1*d2]) # Flatten and remove dimensions equal to 1\n",
    "print_array(y)\n",
    "\n",
    "y = tf.reshape(x, [2,-1]) # Infer dimensions of axis 1 based on value of axis 0\n",
    "print_array(y)"
   ]
  },
  {
   "cell_type": "code",
   "execution_count": 4,
   "metadata": {},
   "outputs": [
    {
     "name": "stdout",
     "output_type": "stream",
     "text": [
      "Tensor shape: (2, 3, 4)\n",
      "3-Tensor:\n",
      "<tf.Variable 'Variable:0' shape=(2, 3, 4) dtype=int32, numpy=\n",
      "array([[[4, 8, 8, 7],\n",
      "        [2, 2, 3, 7],\n",
      "        [3, 1, 3, 1]],\n",
      "\n",
      "       [[9, 2, 4, 5],\n",
      "        [9, 6, 8, 3],\n",
      "        [7, 8, 8, 8]]])>\n",
      "\n",
      "Tensor shape: (4, 3, 2)\n",
      "3-Tensor:\n",
      "[[[4 8]\n",
      "  [8 7]\n",
      "  [2 2]]\n",
      "\n",
      " [[3 7]\n",
      "  [3 1]\n",
      "  [3 1]]\n",
      "\n",
      " [[9 2]\n",
      "  [4 5]\n",
      "  [9 6]]\n",
      "\n",
      " [[8 3]\n",
      "  [7 8]\n",
      "  [8 8]]]\n",
      "\n",
      "Tensor shape: (1, 24)\n",
      "2-Tensor:\n",
      "[[4 8 8 7 2 2 3 7 3 1 3 1 9 2 4 5 9 6 8 3 7 8 8 8]]\n",
      "\n",
      "Tensor shape: (24,)\n",
      "1-Tensor:\n",
      "[4 8 8 7 2 2 3 7 3 1 3 1 9 2 4 5 9 6 8 3 7 8 8 8]\n",
      "\n",
      "Tensor shape: (2, 12)\n",
      "2-Tensor:\n",
      "[[4 8 8 7 2 2 3 7 3 1 3 1]\n",
      " [9 2 4 5 9 6 8 3 7 8 8 8]]\n",
      "\n",
      "Tensor shape: (2, 4, 3)\n",
      "3-Tensor:\n",
      "[[[4 8 8]\n",
      "  [7 2 2]\n",
      "  [3 7 3]\n",
      "  [1 3 1]]\n",
      "\n",
      " [[9 2 4]\n",
      "  [5 9 6]\n",
      "  [8 3 7]\n",
      "  [8 8 8]]]\n",
      "\n"
     ]
    }
   ],
   "source": [
    "# 3D\n",
    "x = tf.Variable(tf.random_uniform([d1, d2, d3], 0, 10, dtype=tf.int32))\n",
    "print_array(x)\n",
    "\n",
    "y = tf.reshape(x, [d3,d2,d1]) # Transpose: interchange axis\n",
    "print_array(y)\n",
    "\n",
    "y = tf.reshape(x, [1,d1*d2*d3]) # Flatten in axis 0 \n",
    "print_array(y)\n",
    "\n",
    "y = tf.reshape(x, [d1*d2*d3]) # Flatten and remove dimensions equal to 1\n",
    "print_array(y)\n",
    "\n",
    "y = tf.reshape(x, [2,-1]) # Infer dimensions of axis 1,2 based on value of axis 0\n",
    "print_array(y)\n",
    "\n",
    "y = tf.reshape(x, [2,4,-1]) # Infer dimensions of axis 2 based on value of axis 0,1\n",
    "print_array(y)"
   ]
  },
  {
   "cell_type": "markdown",
   "metadata": {},
   "source": [
    "### Flatten \n",
    "\n",
    "tf.reshape : Returns a flattened array (when [-1] args)"
   ]
  },
  {
   "cell_type": "code",
   "execution_count": 5,
   "metadata": {},
   "outputs": [
    {
     "name": "stdout",
     "output_type": "stream",
     "text": [
      "Tensor shape: (2, 3)\n",
      "2-Tensor:\n",
      "<tf.Variable 'Variable:0' shape=(2, 3) dtype=int32, numpy=\n",
      "array([[4, 3, 0],\n",
      "       [8, 7, 3]])>\n",
      "\n",
      "Tensor shape: (6,)\n",
      "1-Tensor:\n",
      "[4 3 0 8 7 3]\n",
      "\n"
     ]
    }
   ],
   "source": [
    "# 2D\n",
    "x = tf.Variable(tf.random_uniform([d1, d2], 0, 10, dtype=tf.int32))\n",
    "print_array(x)\n",
    "\n",
    "y = tf.reshape(x, [-1])\n",
    "print_array(y)"
   ]
  },
  {
   "cell_type": "code",
   "execution_count": 6,
   "metadata": {},
   "outputs": [
    {
     "name": "stdout",
     "output_type": "stream",
     "text": [
      "Tensor shape: (2, 3, 4)\n",
      "3-Tensor:\n",
      "<tf.Variable 'Variable:0' shape=(2, 3, 4) dtype=int32, numpy=\n",
      "array([[[7, 9, 5, 6],\n",
      "        [7, 3, 1, 6],\n",
      "        [4, 9, 8, 8]],\n",
      "\n",
      "       [[1, 0, 5, 5],\n",
      "        [0, 7, 0, 1],\n",
      "        [3, 2, 3, 4]]])>\n",
      "\n",
      "Tensor shape: (24,)\n",
      "1-Tensor:\n",
      "[7 9 5 6 7 3 1 6 4 9 8 8 1 0 5 5 0 7 0 1 3 2 3 4]\n",
      "\n"
     ]
    }
   ],
   "source": [
    "# 3D\n",
    "x = tf.Variable(tf.random_uniform([d1, d2, d3], 0, 10, dtype=tf.int32))\n",
    "print_array(x)\n",
    "\n",
    "y = tf.reshape(x, [-1])\n",
    "print_array(y)"
   ]
  },
  {
   "cell_type": "markdown",
   "metadata": {},
   "source": [
    "## Transpose-like operations"
   ]
  },
  {
   "cell_type": "markdown",
   "metadata": {},
   "source": [
    "## Rollaxis\n",
    "\n",
    "tf.roll : Roll the specified axis backwards, until it lies in a given position"
   ]
  },
  {
   "cell_type": "code",
   "execution_count": 8,
   "metadata": {},
   "outputs": [
    {
     "name": "stdout",
     "output_type": "stream",
     "text": [
      "Tensor shape: (2, 3, 4)\n",
      "3-Tensor:\n",
      "<tf.Variable 'Variable:0' shape=(2, 3, 4) dtype=int32, numpy=\n",
      "array([[[2, 2, 1, 0],\n",
      "        [3, 3, 0, 9],\n",
      "        [0, 8, 5, 4]],\n",
      "\n",
      "       [[8, 2, 0, 0],\n",
      "        [5, 7, 8, 5],\n",
      "        [2, 3, 1, 8]]])>\n",
      "\n",
      "Tensor shape: (2, 3, 4)\n",
      "3-Tensor:\n",
      "[[[2 2 1 0]\n",
      "  [3 3 0 9]\n",
      "  [0 8 5 4]]\n",
      "\n",
      " [[8 2 0 0]\n",
      "  [5 7 8 5]\n",
      "  [2 3 1 8]]]\n",
      "\n"
     ]
    }
   ],
   "source": [
    "# 3D\n",
    "x = tf.Variable(tf.random_uniform([d1, d2, d3], 0, 10, dtype=tf.int32))\n",
    "print_array(x)\n",
    "\n",
    "y = tf.roll(x, 2, 0) # Get axis 1 and roll backwards until position 0\n",
    "print_array(y)"
   ]
  },
  {
   "cell_type": "markdown",
   "metadata": {},
   "source": [
    "## Transpose\n",
    "\n",
    "tf.transpose : Permute the dimensions of an array"
   ]
  },
  {
   "cell_type": "code",
   "execution_count": 7,
   "metadata": {},
   "outputs": [
    {
     "name": "stdout",
     "output_type": "stream",
     "text": [
      "Tensor shape: (2, 3)\n",
      "2-Tensor:\n",
      "<tf.Variable 'Variable:0' shape=(2, 3) dtype=int32, numpy=\n",
      "array([[0, 1, 5],\n",
      "       [1, 1, 8]])>\n",
      "\n",
      "Tensor shape: (3, 2)\n",
      "2-Tensor:\n",
      "[[0 1]\n",
      " [1 1]\n",
      " [5 8]]\n",
      "\n",
      "Tensor shape: (2, 3, 4)\n",
      "3-Tensor:\n",
      "<tf.Variable 'Variable:0' shape=(2, 3, 4) dtype=int32, numpy=\n",
      "array([[[2, 0, 5, 5],\n",
      "        [8, 7, 1, 7],\n",
      "        [9, 1, 1, 5]],\n",
      "\n",
      "       [[1, 5, 6, 4],\n",
      "        [8, 0, 4, 5],\n",
      "        [0, 8, 3, 3]]])>\n",
      "\n",
      "Tensor shape: (4, 3, 2)\n",
      "3-Tensor:\n",
      "[[[2 1]\n",
      "  [8 8]\n",
      "  [9 0]]\n",
      "\n",
      " [[0 5]\n",
      "  [7 0]\n",
      "  [1 8]]\n",
      "\n",
      " [[5 6]\n",
      "  [1 4]\n",
      "  [1 3]]\n",
      "\n",
      " [[5 4]\n",
      "  [7 5]\n",
      "  [5 3]]]\n",
      "\n",
      "4-Tensor shape: (2, 3, 4, 5)\n",
      "\n",
      "4-Tensor shape: (5, 4, 3, 2)\n",
      "\n",
      "5-Tensor shape: (2, 3, 4, 5, 6)\n",
      "\n",
      "5-Tensor shape: (6, 5, 4, 3, 2)\n",
      "\n"
     ]
    }
   ],
   "source": [
    "# 2D\n",
    "x = tf.Variable(tf.random_uniform([d1, d2], 0, 10, dtype=tf.int32))\n",
    "print_array(x)\n",
    "\n",
    "y = tf.transpose(x) # Swap the two axis\n",
    "print_array(y)\n",
    "\n",
    "# 3D\n",
    "x = tf.Variable(tf.random_uniform([d1, d2, d3], 0, 10, dtype=tf.int32))\n",
    "print_array(x)\n",
    "\n",
    "y = tf.transpose(x) # Swap 0 <-> 2 axis leaving 1 unchanged\n",
    "print_array(y)\n",
    "\n",
    "# 4D\n",
    "x = tf.Variable(tf.random_uniform([d1, d2, d3, 5], 0, 10, dtype=tf.int32))\n",
    "print_array(x)\n",
    "\n",
    "y = tf.transpose(x) # Swap 0<->4 and 1<->3 axis\n",
    "print_array(y)\n",
    "\n",
    "# 5D\n",
    "x = tf.Variable(tf.random_uniform([d1, d2, d3, 5, 6], 0, 10, dtype=tf.int32))\n",
    "print_array(x)\n",
    "\n",
    "y = tf.transpose(x) # Swap 0<->5 and 1<->4 axis leaving 3 unchanged\n",
    "print_array(y)"
   ]
  },
  {
   "cell_type": "markdown",
   "metadata": {},
   "source": [
    "## Changing number of dimensions"
   ]
  },
  {
   "cell_type": "markdown",
   "metadata": {},
   "source": [
    "### Expand_dims\n",
    "\n",
    "tf.expand_dims : Expand the shape of an array"
   ]
  },
  {
   "cell_type": "code",
   "execution_count": 9,
   "metadata": {},
   "outputs": [
    {
     "name": "stdout",
     "output_type": "stream",
     "text": [
      "Tensor shape: (2, 3)\n",
      "2-Tensor:\n",
      "<tf.Variable 'Variable:0' shape=(2, 3) dtype=int32, numpy=\n",
      "array([[7, 4, 4],\n",
      "       [2, 6, 5]])>\n",
      "\n",
      "Tensor shape: (1, 2, 3)\n",
      "3-Tensor:\n",
      "[[[7 4 4]\n",
      "  [2 6 5]]]\n",
      "\n",
      "Tensor shape: (2, 1, 3)\n",
      "3-Tensor:\n",
      "[[[7 4 4]]\n",
      "\n",
      " [[2 6 5]]]\n",
      "\n",
      "Tensor shape: (2, 3, 1)\n",
      "3-Tensor:\n",
      "[[[7]\n",
      "  [4]\n",
      "  [4]]\n",
      "\n",
      " [[2]\n",
      "  [6]\n",
      "  [5]]]\n",
      "\n"
     ]
    }
   ],
   "source": [
    "# 2D\n",
    "x = tf.Variable(tf.random_uniform([d1, d2], 0, 10, dtype=tf.int32))\n",
    "print_array(x)\n",
    "\n",
    "y = tf.expand_dims(x, axis=0) # Add a single-dimension axis at position 0\n",
    "print_array(y)\n",
    "\n",
    "y = tf.expand_dims(x, axis=1) # Add a single-dimension axis at position 1\n",
    "print_array(y)\n",
    "\n",
    "y = tf.expand_dims(x, axis=2) # Add a single-dimension axis at position 2\n",
    "print_array(y)"
   ]
  },
  {
   "cell_type": "markdown",
   "metadata": {},
   "source": [
    "### Squeeze\n",
    "\n",
    "tf.squeeze : Remove single-dimensional entries from the shape of an array"
   ]
  },
  {
   "cell_type": "code",
   "execution_count": 10,
   "metadata": {},
   "outputs": [
    {
     "name": "stdout",
     "output_type": "stream",
     "text": [
      "Tensor shape: (2, 3)\n",
      "2-Tensor:\n",
      "<tf.Variable 'Variable:0' shape=(2, 3) dtype=int32, numpy=\n",
      "array([[6, 5, 6],\n",
      "       [9, 1, 6]])>\n",
      "\n",
      "Tensor shape: (2, 3)\n",
      "2-Tensor:\n",
      "[[6 5 6]\n",
      " [9 1 6]]\n",
      "\n",
      "Tensor shape: (2, 3, 1)\n",
      "3-Tensor:\n",
      "<tf.Variable 'Variable:0' shape=(2, 3, 1) dtype=int32, numpy=\n",
      "array([[[4],\n",
      "        [2],\n",
      "        [2]],\n",
      "\n",
      "       [[1],\n",
      "        [3],\n",
      "        [9]]])>\n",
      "\n",
      "Tensor shape: (2, 3)\n",
      "2-Tensor:\n",
      "[[4 2 2]\n",
      " [1 3 9]]\n",
      "\n",
      "7-Tensor shape: (1, 2, 1, 3, 1, 1, 1)\n",
      "\n",
      "Tensor shape: (2, 3)\n",
      "2-Tensor:\n",
      "[[1 9 3]\n",
      " [3 1 3]]\n",
      "\n"
     ]
    }
   ],
   "source": [
    "# 2D\n",
    "x = tf.Variable(tf.random_uniform([d1, d2], 0, 10, dtype=tf.int32))\n",
    "print_array(x)\n",
    "\n",
    "y = tf.squeeze(x) # Nothing happens because no 1-dims\n",
    "print_array(y)\n",
    "\n",
    "x = tf.Variable(tf.random_uniform([d1, d2, 1], 0, 10, dtype=tf.int32))\n",
    "print_array(x)\n",
    "\n",
    "y = tf.squeeze(x) # Removes the single-dim\n",
    "print_array(y)\n",
    "\n",
    "x = tf.Variable(tf.random_uniform([1, d1, 1, d2, 1, 1, 1], 0, 10, dtype=tf.int32))\n",
    "print_array(x)\n",
    "\n",
    "y = tf.squeeze(x) # Removes every single-dim\n",
    "print_array(y)"
   ]
  },
  {
   "cell_type": "markdown",
   "metadata": {},
   "source": [
    "## Joining tensors"
   ]
  },
  {
   "cell_type": "markdown",
   "metadata": {},
   "source": [
    "### Concatenate\n",
    "\n",
    "tf.concat : Join a sequence of tensors along an existing axis"
   ]
  },
  {
   "cell_type": "code",
   "execution_count": 12,
   "metadata": {},
   "outputs": [
    {
     "name": "stdout",
     "output_type": "stream",
     "text": [
      "Tensor shape: (3, 3)\n",
      "2-Tensor:\n",
      "<tf.Variable 'Variable:0' shape=(3, 3) dtype=int32, numpy=\n",
      "array([[0, 2, 7],\n",
      "       [4, 9, 0],\n",
      "       [1, 9, 1]])>\n",
      "\n",
      "Tensor shape: (4, 3)\n",
      "2-Tensor:\n",
      "<tf.Variable 'Variable:0' shape=(4, 3) dtype=int32, numpy=\n",
      "array([[2, 0, 3],\n",
      "       [2, 7, 5],\n",
      "       [7, 0, 3],\n",
      "       [5, 9, 4]])>\n",
      "\n",
      "Tensor shape: (7, 3)\n",
      "2-Tensor:\n",
      "[[0 2 7]\n",
      " [4 9 0]\n",
      " [1 9 1]\n",
      " [2 0 3]\n",
      " [2 7 5]\n",
      " [7 0 3]\n",
      " [5 9 4]]\n",
      "\n",
      "Tensor shape: (2, 3, 4)\n",
      "3-Tensor:\n",
      "<tf.Variable 'Variable:0' shape=(2, 3, 4) dtype=int32, numpy=\n",
      "array([[[1, 3, 0, 7],\n",
      "        [3, 7, 7, 3],\n",
      "        [5, 1, 2, 4]],\n",
      "\n",
      "       [[6, 6, 4, 9],\n",
      "        [7, 7, 4, 7],\n",
      "        [5, 8, 0, 5]]])>\n",
      "\n",
      "Tensor shape: (2, 3, 3)\n",
      "3-Tensor:\n",
      "<tf.Variable 'Variable:0' shape=(2, 3, 3) dtype=int32, numpy=\n",
      "array([[[1, 7, 4],\n",
      "        [3, 1, 7],\n",
      "        [5, 7, 3]],\n",
      "\n",
      "       [[8, 7, 6],\n",
      "        [7, 6, 7],\n",
      "        [3, 9, 3]]])>\n",
      "\n",
      "Tensor shape: (2, 3, 7)\n",
      "3-Tensor:\n",
      "[[[1 3 0 7 1 7 4]\n",
      "  [3 7 7 3 3 1 7]\n",
      "  [5 1 2 4 5 7 3]]\n",
      "\n",
      " [[6 6 4 9 8 7 6]\n",
      "  [7 7 4 7 7 6 7]\n",
      "  [5 8 0 5 3 9 3]]]\n",
      "\n"
     ]
    }
   ],
   "source": [
    "# 2D\n",
    "x1 = tf.Variable(tf.random_uniform([3, d2], 0, 10, dtype=tf.int32))\n",
    "print_array(x1)\n",
    "x2 = tf.Variable(tf.random_uniform([4, d2], 0, 10, dtype=tf.int32))\n",
    "print_array(x2)\n",
    "\n",
    "y = tf.concat([x1,x2], axis=0)\n",
    "print_array(y)\n",
    "\n",
    "# 3D\n",
    "x1 = tf.Variable(tf.random_uniform([d1, d2, 4], 0, 10, dtype=tf.int32))\n",
    "print_array(x1)\n",
    "x2 = tf.Variable(tf.random_uniform([d1, d2, 3], 0, 10, dtype=tf.int32))\n",
    "print_array(x2)\n",
    "\n",
    "y = tf.concat([x1,x2], axis=2)\n",
    "print_array(y)"
   ]
  },
  {
   "cell_type": "markdown",
   "metadata": {},
   "source": [
    "## Stack\n",
    "\n",
    "tf.stack : Join a sequence of tensors along a new axis"
   ]
  },
  {
   "cell_type": "code",
   "execution_count": 11,
   "metadata": {},
   "outputs": [
    {
     "name": "stdout",
     "output_type": "stream",
     "text": [
      "Tensor shape: (3, 4)\n",
      "2-Tensor:\n",
      "<tf.Variable 'Variable:0' shape=(3, 4) dtype=int32, numpy=\n",
      "array([[5, 1, 5, 6],\n",
      "       [8, 8, 6, 9],\n",
      "       [2, 1, 3, 7]])>\n",
      "\n",
      "Tensor shape: (3, 4)\n",
      "2-Tensor:\n",
      "<tf.Variable 'Variable:0' shape=(3, 4) dtype=int32, numpy=\n",
      "array([[1, 0, 1, 5],\n",
      "       [7, 7, 2, 2],\n",
      "       [3, 0, 8, 4]])>\n",
      "\n",
      "Tensor shape: (2, 3, 4)\n",
      "3-Tensor:\n",
      "[[[5 1 5 6]\n",
      "  [8 8 6 9]\n",
      "  [2 1 3 7]]\n",
      "\n",
      " [[1 0 1 5]\n",
      "  [7 7 2 2]\n",
      "  [3 0 8 4]]]\n",
      "\n",
      "Tensor shape: (3, 2, 4)\n",
      "3-Tensor:\n",
      "[[[5 1 5 6]\n",
      "  [1 0 1 5]]\n",
      "\n",
      " [[8 8 6 9]\n",
      "  [7 7 2 2]]\n",
      "\n",
      " [[2 1 3 7]\n",
      "  [3 0 8 4]]]\n",
      "\n",
      "Tensor shape: (3, 4, 2)\n",
      "3-Tensor:\n",
      "[[[5 1]\n",
      "  [1 0]\n",
      "  [5 1]\n",
      "  [6 5]]\n",
      "\n",
      " [[8 7]\n",
      "  [8 7]\n",
      "  [6 2]\n",
      "  [9 2]]\n",
      "\n",
      " [[2 3]\n",
      "  [1 0]\n",
      "  [3 8]\n",
      "  [7 4]]]\n",
      "\n"
     ]
    }
   ],
   "source": [
    "# 2D\n",
    "x1 = tf.Variable(tf.random_uniform([d2, d3], 0, 10, dtype=tf.int32))\n",
    "print_array(x1)\n",
    "x2 = tf.Variable(tf.random_uniform([d2, d3], 0, 10, dtype=tf.int32))\n",
    "print_array(x2)\n",
    "\n",
    "y = tf.stack([x1,x2], axis=0) # Stack the tensors over axis 0\n",
    "print_array(y)\n",
    "\n",
    "y = tf.stack([x1,x2], axis=1) # Stack the tensors over axis 1\n",
    "print_array(y)\n",
    "\n",
    "y = tf.stack([x1,x2], axis=2) # Stack the tensors over axis 2\n",
    "print_array(y)"
   ]
  },
  {
   "cell_type": "markdown",
   "metadata": {},
   "source": [
    "## Splitting tensors"
   ]
  },
  {
   "cell_type": "markdown",
   "metadata": {},
   "source": [
    "### Split\n",
    "\n",
    "tf.split : Split a tensor into multiple tensors"
   ]
  },
  {
   "cell_type": "code",
   "execution_count": 13,
   "metadata": {},
   "outputs": [
    {
     "name": "stdout",
     "output_type": "stream",
     "text": [
      "Tensor shape: (2, 3)\n",
      "2-Tensor:\n",
      "<tf.Variable 'Variable:0' shape=(2, 3) dtype=int32, numpy=\n",
      "array([[7, 1, 3],\n",
      "       [4, 2, 8]])>\n",
      "\n",
      "Tensor shape: (1, 3)\n",
      "2-Tensor:\n",
      "[[7 1 3]]\n",
      "\n",
      "Tensor shape: (1, 3)\n",
      "2-Tensor:\n",
      "[[4 2 8]]\n",
      "\n",
      "Tensor shape: (4, 3, 2)\n",
      "3-Tensor:\n",
      "<tf.Variable 'Variable:0' shape=(4, 3, 2) dtype=int32, numpy=\n",
      "array([[[3, 3],\n",
      "        [5, 3],\n",
      "        [7, 0]],\n",
      "\n",
      "       [[5, 2],\n",
      "        [0, 5],\n",
      "        [8, 2]],\n",
      "\n",
      "       [[8, 9],\n",
      "        [9, 0],\n",
      "        [2, 7]],\n",
      "\n",
      "       [[9, 7],\n",
      "        [4, 1],\n",
      "        [0, 4]]])>\n",
      "\n",
      "Tensor shape: (2, 3, 2)\n",
      "3-Tensor:\n",
      "[[[3 3]\n",
      "  [5 3]\n",
      "  [7 0]]\n",
      "\n",
      " [[5 2]\n",
      "  [0 5]\n",
      "  [8 2]]]\n",
      "\n",
      "Tensor shape: (2, 3, 2)\n",
      "3-Tensor:\n",
      "[[[8 9]\n",
      "  [9 0]\n",
      "  [2 7]]\n",
      "\n",
      " [[9 7]\n",
      "  [4 1]\n",
      "  [0 4]]]\n",
      "\n",
      "Tensor shape: (1, 3, 2)\n",
      "3-Tensor:\n",
      "[[[3 3]\n",
      "  [5 3]\n",
      "  [7 0]]]\n",
      "\n",
      "Tensor shape: (1, 3, 2)\n",
      "3-Tensor:\n",
      "[[[5 2]\n",
      "  [0 5]\n",
      "  [8 2]]]\n",
      "\n",
      "Tensor shape: (1, 3, 2)\n",
      "3-Tensor:\n",
      "[[[8 9]\n",
      "  [9 0]\n",
      "  [2 7]]]\n",
      "\n",
      "Tensor shape: (1, 3, 2)\n",
      "3-Tensor:\n",
      "[[[9 7]\n",
      "  [4 1]\n",
      "  [0 4]]]\n",
      "\n"
     ]
    }
   ],
   "source": [
    "# 2D\n",
    "x1 = tf.Variable(tf.random_uniform([d1, d2], 0, 10, dtype=tf.int32))\n",
    "print_array(x1)\n",
    "\n",
    "ys = tf.split(x1, num_or_size_splits=2)\n",
    "for y in ys:\n",
    "    print_array(y)\n",
    "    \n",
    "# 3D\n",
    "x1 = tf.Variable(tf.random_uniform([d3, d2, d1], 0, 10, dtype=tf.int32))\n",
    "print_array(x1)\n",
    "\n",
    "ys = tf.split(x1, num_or_size_splits=2) # 2 splits over axis 0\n",
    "for y in ys:\n",
    "    print_array(y)\n",
    "    \n",
    "ys = tf.split(x1, num_or_size_splits=4) # 4 splits over axis 0\n",
    "for y in ys:\n",
    "    print_array(y)"
   ]
  }
 ],
 "metadata": {
  "kernelspec": {
   "display_name": "Python 3",
   "language": "python",
   "name": "python3"
  },
  "language_info": {
   "codemirror_mode": {
    "name": "ipython",
    "version": 3
   },
   "file_extension": ".py",
   "mimetype": "text/x-python",
   "name": "python",
   "nbconvert_exporter": "python",
   "pygments_lexer": "ipython3",
   "version": "3.6.1"
  }
 },
 "nbformat": 4,
 "nbformat_minor": 2
}
