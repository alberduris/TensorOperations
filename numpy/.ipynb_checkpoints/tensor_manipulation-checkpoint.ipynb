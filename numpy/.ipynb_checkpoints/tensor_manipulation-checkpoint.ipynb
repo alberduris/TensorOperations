{
 "cells": [
  {
   "cell_type": "markdown",
   "metadata": {},
   "source": [
    "# Numpy tensor operations"
   ]
  },
  {
   "cell_type": "code",
   "execution_count": 39,
   "metadata": {},
   "outputs": [],
   "source": [
    "import numpy as np\n",
    "d1 = 2\n",
    "d2 = 3\n",
    "d3 = 4"
   ]
  },
  {
   "cell_type": "code",
   "execution_count": 40,
   "metadata": {},
   "outputs": [],
   "source": [
    "# Utils functions\n",
    "\n",
    "def print_array(x):\n",
    "    print('Tensor shape: {}\\n{}-Tensor:\\n{}\\n'.format(x.shape, x.ndim, x))"
   ]
  },
  {
   "cell_type": "markdown",
   "metadata": {},
   "source": [
    "### Ravel \n",
    "\n",
    "numpy.ravel : Return a contiguous flattened array"
   ]
  },
  {
   "cell_type": "code",
   "execution_count": 41,
   "metadata": {},
   "outputs": [
    {
     "name": "stdout",
     "output_type": "stream",
     "text": [
      "Tensor shape: (2,)\n",
      "1-Tensor:\n",
      "[5 0]\n",
      "\n",
      "Tensor shape: (2,)\n",
      "1-Tensor:\n",
      "[5 0]\n",
      "\n"
     ]
    }
   ],
   "source": [
    "# 1D\n",
    "x = np.random.randint(10, size=(d1))\n",
    "print_array(x)\n",
    "\n",
    "y = np.ravel(x)\n",
    "print_array(y)"
   ]
  },
  {
   "cell_type": "code",
   "execution_count": 42,
   "metadata": {},
   "outputs": [
    {
     "name": "stdout",
     "output_type": "stream",
     "text": [
      "Tensor shape: (2, 3)\n",
      "2-Tensor:\n",
      "[[6 5 5]\n",
      " [4 8 3]]\n",
      "\n",
      "Tensor shape: (6,)\n",
      "1-Tensor:\n",
      "[6 5 5 4 8 3]\n",
      "\n"
     ]
    }
   ],
   "source": [
    "# 2D\n",
    "x = np.random.randint(10, size=(d1,d2))\n",
    "print_array(x)\n",
    "\n",
    "y = np.ravel(x)\n",
    "print_array(y)"
   ]
  },
  {
   "cell_type": "code",
   "execution_count": 43,
   "metadata": {},
   "outputs": [
    {
     "name": "stdout",
     "output_type": "stream",
     "text": [
      "Tensor shape: (2, 3, 4)\n",
      "3-Tensor:\n",
      "[[[1 5 5 0]\n",
      "  [9 8 3 4]\n",
      "  [8 2 6 2]]\n",
      "\n",
      " [[4 3 5 4]\n",
      "  [0 1 7 3]\n",
      "  [2 1 0 0]]]\n",
      "\n",
      "Tensor shape: (24,)\n",
      "1-Tensor:\n",
      "[1 5 5 0 9 8 3 4 8 2 6 2 4 3 5 4 0 1 7 3 2 1 0 0]\n",
      "\n"
     ]
    }
   ],
   "source": [
    "# 3D\n",
    "x = np.random.randint(10, size=(d1,d2,d3))\n",
    "print_array(x)\n",
    "\n",
    "y = np.ravel(x)\n",
    "print_array(y)"
   ]
  },
  {
   "cell_type": "markdown",
   "metadata": {},
   "source": [
    "### Reshape \n",
    "\n",
    "numpy.reshape : Gives a new shape to an array without changing its data"
   ]
  },
  {
   "cell_type": "code",
   "execution_count": 47,
   "metadata": {},
   "outputs": [
    {
     "name": "stdout",
     "output_type": "stream",
     "text": [
      "Tensor shape: (2,)\n",
      "1-Tensor:\n",
      "[1 3]\n",
      "\n",
      "Tensor shape: (2,)\n",
      "1-Tensor:\n",
      "[1 3]\n",
      "\n"
     ]
    }
   ],
   "source": [
    "# 1D\n",
    "x = np.random.randint(10, size=(d1))\n",
    "print_array(x)\n",
    "\n",
    "y = np.reshape(x, d1) # 1d-tensor can only be reshaped into its original shape\n",
    "print_array(y)"
   ]
  },
  {
   "cell_type": "code",
   "execution_count": 61,
   "metadata": {},
   "outputs": [
    {
     "name": "stdout",
     "output_type": "stream",
     "text": [
      "Tensor shape: (2, 3)\n",
      "2-Tensor:\n",
      "[[0 8 0]\n",
      " [6 3 1]]\n",
      "\n",
      "Tensor shape: (3, 2)\n",
      "2-Tensor:\n",
      "[[0 8]\n",
      " [0 6]\n",
      " [3 1]]\n",
      "\n",
      "Tensor shape: (1, 6)\n",
      "2-Tensor:\n",
      "[[0 8 0 6 3 1]]\n",
      "\n",
      "Tensor shape: (6, 1)\n",
      "2-Tensor:\n",
      "[[0]\n",
      " [8]\n",
      " [0]\n",
      " [6]\n",
      " [3]\n",
      " [1]]\n",
      "\n",
      "Tensor shape: (6,)\n",
      "1-Tensor:\n",
      "[0 8 0 6 3 1]\n",
      "\n",
      "Tensor shape: (2, 3)\n",
      "2-Tensor:\n",
      "[[0 8 0]\n",
      " [6 3 1]]\n",
      "\n"
     ]
    }
   ],
   "source": [
    "# 2D\n",
    "x = np.random.randint(10, size=(d1,d2))\n",
    "print_array(x)\n",
    "\n",
    "y = np.reshape(x, [d2,d1]) # Transpose: interchange axis\n",
    "print_array(y)\n",
    "\n",
    "y = np.reshape(x, [1,d1*d2]) # Flatten in axis 0 \n",
    "print_array(y)\n",
    "\n",
    "y = np.reshape(x, [d1*d2, 1]) # Flatten in axis 1\n",
    "print_array(y)\n",
    "\n",
    "y = np.reshape(x, [d1*d2]) # Flatten and remove dimensions equal to 1\n",
    "print_array(y)\n",
    "\n",
    "y = np.reshape(x, [2,-1]) # Infer dimensions of axis 1 based on value of axis 0\n",
    "print_array(y)"
   ]
  },
  {
   "cell_type": "code",
   "execution_count": 64,
   "metadata": {},
   "outputs": [
    {
     "name": "stdout",
     "output_type": "stream",
     "text": [
      "Tensor shape: (2, 3, 4)\n",
      "3-Tensor:\n",
      "[[[1 1 2 1]\n",
      "  [1 9 2 5]\n",
      "  [2 1 0 6]]\n",
      "\n",
      " [[9 6 1 1]\n",
      "  [8 3 0 8]\n",
      "  [9 2 2 6]]]\n",
      "\n",
      "Tensor shape: (4, 3, 2)\n",
      "3-Tensor:\n",
      "[[[1 1]\n",
      "  [2 1]\n",
      "  [1 9]]\n",
      "\n",
      " [[2 5]\n",
      "  [2 1]\n",
      "  [0 6]]\n",
      "\n",
      " [[9 6]\n",
      "  [1 1]\n",
      "  [8 3]]\n",
      "\n",
      " [[0 8]\n",
      "  [9 2]\n",
      "  [2 6]]]\n",
      "\n",
      "Tensor shape: (1, 24)\n",
      "2-Tensor:\n",
      "[[1 1 2 1 1 9 2 5 2 1 0 6 9 6 1 1 8 3 0 8 9 2 2 6]]\n",
      "\n",
      "Tensor shape: (24,)\n",
      "1-Tensor:\n",
      "[1 1 2 1 1 9 2 5 2 1 0 6 9 6 1 1 8 3 0 8 9 2 2 6]\n",
      "\n",
      "Tensor shape: (2, 12)\n",
      "2-Tensor:\n",
      "[[1 1 2 1 1 9 2 5 2 1 0 6]\n",
      " [9 6 1 1 8 3 0 8 9 2 2 6]]\n",
      "\n",
      "Tensor shape: (2, 4, 3)\n",
      "3-Tensor:\n",
      "[[[1 1 2]\n",
      "  [1 1 9]\n",
      "  [2 5 2]\n",
      "  [1 0 6]]\n",
      "\n",
      " [[9 6 1]\n",
      "  [1 8 3]\n",
      "  [0 8 9]\n",
      "  [2 2 6]]]\n",
      "\n"
     ]
    }
   ],
   "source": [
    "# 3D\n",
    "x = np.random.randint(10, size=(d1,d2, d3))\n",
    "print_array(x)\n",
    "\n",
    "y = np.reshape(x, [d3,d2,d1]) # Transpose: interchange axis\n",
    "print_array(y)\n",
    "\n",
    "y = np.reshape(x, [1,d1*d2*d3]) # Flatten in axis 0 \n",
    "print_array(y)\n",
    "\n",
    "y = np.reshape(x, [d1*d2*d3]) # Flatten and remove dimensions equal to 1\n",
    "print_array(y)\n",
    "\n",
    "y = np.reshape(x, [2,-1]) # Infer dimensions of axis 1,2 based on value of axis 0\n",
    "print_array(y)\n",
    "\n",
    "y = np.reshape(x, [2,4,-1]) # Infer dimensions of axis 2 based on value of axis 0,1\n",
    "print_array(y)"
   ]
  },
  {
   "cell_type": "code",
   "execution_count": null,
   "metadata": {},
   "outputs": [],
   "source": []
  },
  {
   "cell_type": "code",
   "execution_count": null,
   "metadata": {},
   "outputs": [],
   "source": []
  }
 ],
 "metadata": {
  "kernelspec": {
   "display_name": "Python 3",
   "language": "python",
   "name": "python3"
  },
  "language_info": {
   "codemirror_mode": {
    "name": "ipython",
    "version": 3
   },
   "file_extension": ".py",
   "mimetype": "text/x-python",
   "name": "python",
   "nbconvert_exporter": "python",
   "pygments_lexer": "ipython3",
   "version": "3.6.1"
  }
 },
 "nbformat": 4,
 "nbformat_minor": 2
}
