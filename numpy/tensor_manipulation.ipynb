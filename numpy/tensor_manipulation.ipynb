{
 "cells": [
  {
   "cell_type": "markdown",
   "metadata": {},
   "source": [
    "# Numpy tensor operations\n",
    "\n",
    "## Tensor manipulations"
   ]
  },
  {
   "cell_type": "code",
   "execution_count": 1,
   "metadata": {},
   "outputs": [],
   "source": [
    "import numpy as np\n",
    "d1 = 2\n",
    "d2 = 3\n",
    "d3 = 4"
   ]
  },
  {
   "cell_type": "code",
   "execution_count": 2,
   "metadata": {},
   "outputs": [],
   "source": [
    "# Utils functions\n",
    "\n",
    "def print_array(x):\n",
    "    if x.ndim <= 3:\n",
    "        print('Tensor shape: {}\\n{}-Tensor:\\n{}\\n'.format(x.shape, x.ndim, x))\n",
    "    else:\n",
    "        print('{}-Tensor shape: {}\\n'.format(x.ndim, x.shape))"
   ]
  },
  {
   "cell_type": "markdown",
   "metadata": {},
   "source": [
    "## Changing tensor shape"
   ]
  },
  {
   "cell_type": "markdown",
   "metadata": {},
   "source": [
    "### Reshape \n",
    "\n",
    "numpy.reshape : Gives a new shape to an array without changing its data"
   ]
  },
  {
   "cell_type": "code",
   "execution_count": 3,
   "metadata": {},
   "outputs": [
    {
     "name": "stdout",
     "output_type": "stream",
     "text": [
      "Tensor shape: (2, 3)\n",
      "2-Tensor:\n",
      "[[9 8 4]\n",
      " [3 3 7]]\n",
      "\n",
      "Tensor shape: (3, 2)\n",
      "2-Tensor:\n",
      "[[9 8]\n",
      " [4 3]\n",
      " [3 7]]\n",
      "\n",
      "Tensor shape: (1, 6)\n",
      "2-Tensor:\n",
      "[[9 8 4 3 3 7]]\n",
      "\n",
      "Tensor shape: (6, 1)\n",
      "2-Tensor:\n",
      "[[9]\n",
      " [8]\n",
      " [4]\n",
      " [3]\n",
      " [3]\n",
      " [7]]\n",
      "\n",
      "Tensor shape: (6,)\n",
      "1-Tensor:\n",
      "[9 8 4 3 3 7]\n",
      "\n",
      "Tensor shape: (2, 3)\n",
      "2-Tensor:\n",
      "[[9 8 4]\n",
      " [3 3 7]]\n",
      "\n"
     ]
    }
   ],
   "source": [
    "# 2D\n",
    "x = np.random.randint(10, size=(d1, d2))\n",
    "print_array(x)\n",
    "\n",
    "y = np.reshape(x, [d2,d1]) # Transpose: interchange axis\n",
    "print_array(y)\n",
    "\n",
    "y = np.reshape(x, [1,d1*d2]) # Flatten in axis 0 \n",
    "print_array(y)\n",
    "\n",
    "y = np.reshape(x, [d1*d2, 1]) # Flatten in axis 1\n",
    "print_array(y)\n",
    "\n",
    "y = np.reshape(x, [d1*d2]) # Flatten and remove dimensions equal to 1\n",
    "print_array(y)\n",
    "\n",
    "y = np.reshape(x, [2,-1]) # Infer dimensions of axis 1 based on value of axis 0\n",
    "print_array(y)"
   ]
  },
  {
   "cell_type": "code",
   "execution_count": 4,
   "metadata": {},
   "outputs": [
    {
     "name": "stdout",
     "output_type": "stream",
     "text": [
      "Tensor shape: (2, 3, 4)\n",
      "3-Tensor:\n",
      "[[[5 8 2 2]\n",
      "  [1 1 3 7]\n",
      "  [8 2 9 7]]\n",
      "\n",
      " [[6 7 8 3]\n",
      "  [1 0 5 5]\n",
      "  [2 9 2 1]]]\n",
      "\n",
      "Tensor shape: (4, 3, 2)\n",
      "3-Tensor:\n",
      "[[[5 8]\n",
      "  [2 2]\n",
      "  [1 1]]\n",
      "\n",
      " [[3 7]\n",
      "  [8 2]\n",
      "  [9 7]]\n",
      "\n",
      " [[6 7]\n",
      "  [8 3]\n",
      "  [1 0]]\n",
      "\n",
      " [[5 5]\n",
      "  [2 9]\n",
      "  [2 1]]]\n",
      "\n",
      "Tensor shape: (1, 24)\n",
      "2-Tensor:\n",
      "[[5 8 2 2 1 1 3 7 8 2 9 7 6 7 8 3 1 0 5 5 2 9 2 1]]\n",
      "\n",
      "Tensor shape: (24,)\n",
      "1-Tensor:\n",
      "[5 8 2 2 1 1 3 7 8 2 9 7 6 7 8 3 1 0 5 5 2 9 2 1]\n",
      "\n",
      "Tensor shape: (2, 12)\n",
      "2-Tensor:\n",
      "[[5 8 2 2 1 1 3 7 8 2 9 7]\n",
      " [6 7 8 3 1 0 5 5 2 9 2 1]]\n",
      "\n",
      "Tensor shape: (2, 4, 3)\n",
      "3-Tensor:\n",
      "[[[5 8 2]\n",
      "  [2 1 1]\n",
      "  [3 7 8]\n",
      "  [2 9 7]]\n",
      "\n",
      " [[6 7 8]\n",
      "  [3 1 0]\n",
      "  [5 5 2]\n",
      "  [9 2 1]]]\n",
      "\n"
     ]
    }
   ],
   "source": [
    "# 3D\n",
    "x = np.random.randint(10, size=(d1, d2, d3))\n",
    "print_array(x)\n",
    "\n",
    "y = np.reshape(x, [d3,d2,d1]) # Transpose: interchange axis\n",
    "print_array(y)\n",
    "\n",
    "y = np.reshape(x, [1,d1*d2*d3]) # Flatten in axis 0 \n",
    "print_array(y)\n",
    "\n",
    "y = np.reshape(x, [d1*d2*d3]) # Flatten and remove dimensions equal to 1\n",
    "print_array(y)\n",
    "\n",
    "y = np.reshape(x, [2,-1]) # Infer dimensions of axis 1,2 based on value of axis 0\n",
    "print_array(y)\n",
    "\n",
    "y = np.reshape(x, [2,4,-1]) # Infer dimensions of axis 2 based on value of axis 0,1\n",
    "print_array(y)"
   ]
  },
  {
   "cell_type": "markdown",
   "metadata": {},
   "source": [
    "### Ravel \n",
    "\n",
    "numpy.ravel : Returns a flattened array\n",
    "\n",
    "ndarray.flatten : In-place variation"
   ]
  },
  {
   "cell_type": "code",
   "execution_count": 5,
   "metadata": {},
   "outputs": [
    {
     "name": "stdout",
     "output_type": "stream",
     "text": [
      "Tensor shape: (2, 3)\n",
      "2-Tensor:\n",
      "[[8 5 8]\n",
      " [2 6 0]]\n",
      "\n",
      "Tensor shape: (6,)\n",
      "1-Tensor:\n",
      "[8 5 8 2 6 0]\n",
      "\n"
     ]
    }
   ],
   "source": [
    "# 2D\n",
    "x = np.random.randint(10, size=(d1, d2))\n",
    "print_array(x)\n",
    "\n",
    "y = np.ravel(x)\n",
    "print_array(y)"
   ]
  },
  {
   "cell_type": "code",
   "execution_count": 6,
   "metadata": {},
   "outputs": [
    {
     "name": "stdout",
     "output_type": "stream",
     "text": [
      "Tensor shape: (2, 3, 4)\n",
      "3-Tensor:\n",
      "[[[4 7 3 7]\n",
      "  [8 5 9 3]\n",
      "  [6 9 4 4]]\n",
      "\n",
      " [[5 2 4 6]\n",
      "  [6 7 8 8]\n",
      "  [0 0 1 1]]]\n",
      "\n",
      "Tensor shape: (24,)\n",
      "1-Tensor:\n",
      "[4 7 3 7 8 5 9 3 6 9 4 4 5 2 4 6 6 7 8 8 0 0 1 1]\n",
      "\n"
     ]
    }
   ],
   "source": [
    "# 3D\n",
    "x = np.random.randint(10, size=(d1, d2, d3))\n",
    "print_array(x)\n",
    "\n",
    "y = np.ravel(x)\n",
    "print_array(y)"
   ]
  },
  {
   "cell_type": "markdown",
   "metadata": {},
   "source": [
    "## Transpose-like operations"
   ]
  },
  {
   "cell_type": "markdown",
   "metadata": {},
   "source": [
    "## Moveaxis\n",
    "\n",
    "numpy.moveaxis : Gives a new shape to an array without changing its data"
   ]
  },
  {
   "cell_type": "code",
   "execution_count": 7,
   "metadata": {},
   "outputs": [
    {
     "name": "stdout",
     "output_type": "stream",
     "text": [
      "Tensor shape: (2, 3)\n",
      "2-Tensor:\n",
      "[[1 2 9]\n",
      " [8 5 1]]\n",
      "\n",
      "Tensor shape: (3, 2)\n",
      "2-Tensor:\n",
      "[[1 8]\n",
      " [2 5]\n",
      " [9 1]]\n",
      "\n"
     ]
    }
   ],
   "source": [
    "# 2D\n",
    "x = np.random.randint(10, size=(d1, d2))\n",
    "print_array(x)\n",
    "\n",
    "y = np.moveaxis(a=x, source=0, destination=1) # Transpose\n",
    "print_array(y)"
   ]
  },
  {
   "cell_type": "markdown",
   "metadata": {},
   "source": [
    "## Rollaxis\n",
    "\n",
    "numpy.rollaxis : Roll the specified axis backwards, until it lies in a given position"
   ]
  },
  {
   "cell_type": "code",
   "execution_count": 8,
   "metadata": {},
   "outputs": [
    {
     "name": "stdout",
     "output_type": "stream",
     "text": [
      "Tensor shape: (2, 3, 4)\n",
      "3-Tensor:\n",
      "[[[3 0 4 1]\n",
      "  [0 7 7 8]\n",
      "  [1 3 5 0]]\n",
      "\n",
      " [[9 2 2 7]\n",
      "  [6 6 6 0]\n",
      "  [7 6 9 7]]]\n",
      "\n",
      "Tensor shape: (4, 2, 3)\n",
      "3-Tensor:\n",
      "[[[3 0 1]\n",
      "  [9 6 7]]\n",
      "\n",
      " [[0 7 3]\n",
      "  [2 6 6]]\n",
      "\n",
      " [[4 7 5]\n",
      "  [2 6 9]]\n",
      "\n",
      " [[1 8 0]\n",
      "  [7 0 7]]]\n",
      "\n"
     ]
    }
   ],
   "source": [
    "# 3D\n",
    "x = np.random.randint(10, size=(d1, d2, d3))\n",
    "print_array(x)\n",
    "\n",
    "y = np.rollaxis(x, 2, 0) # Get axis 1 and roll backwards until position 0\n",
    "print_array(y)"
   ]
  },
  {
   "cell_type": "markdown",
   "metadata": {},
   "source": [
    "## Swapaxes\n",
    "\n",
    "numpy.swapaxes : Interchange two axis of an array"
   ]
  },
  {
   "cell_type": "code",
   "execution_count": 9,
   "metadata": {},
   "outputs": [
    {
     "name": "stdout",
     "output_type": "stream",
     "text": [
      "Tensor shape: (2, 3, 4)\n",
      "3-Tensor:\n",
      "[[[5 6 0 5]\n",
      "  [9 6 4 1]\n",
      "  [7 1 3 6]]\n",
      "\n",
      " [[5 8 5 8]\n",
      "  [2 9 3 8]\n",
      "  [9 3 2 4]]]\n",
      "\n",
      "Tensor shape: (4, 3, 2)\n",
      "3-Tensor:\n",
      "[[[5 5]\n",
      "  [9 2]\n",
      "  [7 9]]\n",
      "\n",
      " [[6 8]\n",
      "  [6 9]\n",
      "  [1 3]]\n",
      "\n",
      " [[0 5]\n",
      "  [4 3]\n",
      "  [3 2]]\n",
      "\n",
      " [[5 8]\n",
      "  [1 8]\n",
      "  [6 4]]]\n",
      "\n"
     ]
    }
   ],
   "source": [
    "# 3D\n",
    "x = np.random.randint(10, size=(d1, d2, d3))\n",
    "print_array(x)\n",
    "\n",
    "y = np.swapaxes(a=x, axis1=2, axis2=0) # Swap axis 2 <-> 0, left axis 1 unchanged\n",
    "print_array(y)"
   ]
  },
  {
   "cell_type": "markdown",
   "metadata": {},
   "source": [
    "## Transpose\n",
    "\n",
    "numpy.transpose : Permute the dimensions of an array"
   ]
  },
  {
   "cell_type": "code",
   "execution_count": 12,
   "metadata": {},
   "outputs": [
    {
     "name": "stdout",
     "output_type": "stream",
     "text": [
      "Tensor shape: (2, 3)\n",
      "2-Tensor:\n",
      "[[1 6 0]\n",
      " [4 9 2]]\n",
      "\n",
      "Tensor shape: (3, 2)\n",
      "2-Tensor:\n",
      "[[1 4]\n",
      " [6 9]\n",
      " [0 2]]\n",
      "\n",
      "Tensor shape: (2, 3, 4)\n",
      "3-Tensor:\n",
      "[[[8 5 1 1]\n",
      "  [5 6 1 5]\n",
      "  [8 5 2 3]]\n",
      "\n",
      " [[2 7 7 1]\n",
      "  [3 6 8 9]\n",
      "  [3 8 4 9]]]\n",
      "\n",
      "Tensor shape: (4, 3, 2)\n",
      "3-Tensor:\n",
      "[[[8 2]\n",
      "  [5 3]\n",
      "  [8 3]]\n",
      "\n",
      " [[5 7]\n",
      "  [6 6]\n",
      "  [5 8]]\n",
      "\n",
      " [[1 7]\n",
      "  [1 8]\n",
      "  [2 4]]\n",
      "\n",
      " [[1 1]\n",
      "  [5 9]\n",
      "  [3 9]]]\n",
      "\n",
      "4-Tensor shape: (2, 3, 4, 5)\n",
      "\n",
      "4-Tensor shape: (5, 4, 3, 2)\n",
      "\n",
      "5-Tensor shape: (2, 3, 4, 5, 6)\n",
      "\n",
      "5-Tensor shape: (6, 5, 4, 3, 2)\n",
      "\n"
     ]
    }
   ],
   "source": [
    "# 2D\n",
    "x = np.random.randint(10, size=(d1, d2)) \n",
    "print_array(x)\n",
    "\n",
    "y = np.transpose(x) # Swap the two axis\n",
    "print_array(y)\n",
    "\n",
    "# 3D\n",
    "x = np.random.randint(10, size=(d1, d2, d3))\n",
    "print_array(x)\n",
    "\n",
    "y = np.transpose(x) # Swap 0 <-> 2 axis leaving 1 unchanged\n",
    "print_array(y)\n",
    "\n",
    "# 4D\n",
    "x = np.random.randint(10, size=(d1, d2, d3, 5)) \n",
    "print_array(x)\n",
    "\n",
    "y = np.transpose(x) # Swap 0<->4 and 1<->3 axis\n",
    "print_array(y)\n",
    "\n",
    "# 5D\n",
    "x = np.random.randint(10, size=(d1, d2, d3, 5, 6)) \n",
    "print_array(x)\n",
    "\n",
    "y = np.transpose(x) # Swap 0<->5 and 1<->4 axis leaving 3 unchanged\n",
    "print_array(y)"
   ]
  },
  {
   "cell_type": "markdown",
   "metadata": {},
   "source": [
    "## Changing number of dimensions"
   ]
  },
  {
   "cell_type": "markdown",
   "metadata": {},
   "source": [
    "### Expand_dims\n",
    "\n",
    "numpy.expand_dims : Expand the shape of an array"
   ]
  },
  {
   "cell_type": "code",
   "execution_count": 16,
   "metadata": {},
   "outputs": [
    {
     "name": "stdout",
     "output_type": "stream",
     "text": [
      "Tensor shape: (2, 3)\n",
      "2-Tensor:\n",
      "[[6 5 1]\n",
      " [3 4 1]]\n",
      "\n",
      "Tensor shape: (1, 2, 3)\n",
      "3-Tensor:\n",
      "[[[6 5 1]\n",
      "  [3 4 1]]]\n",
      "\n",
      "Tensor shape: (2, 1, 3)\n",
      "3-Tensor:\n",
      "[[[6 5 1]]\n",
      "\n",
      " [[3 4 1]]]\n",
      "\n",
      "Tensor shape: (2, 3, 1)\n",
      "3-Tensor:\n",
      "[[[6]\n",
      "  [5]\n",
      "  [1]]\n",
      "\n",
      " [[3]\n",
      "  [4]\n",
      "  [1]]]\n",
      "\n"
     ]
    }
   ],
   "source": [
    "# 2D\n",
    "x = np.random.randint(10, size=(d1, d2))\n",
    "print_array(x)\n",
    "\n",
    "y = np.expand_dims(x, axis=0) # Add a single-dimension axis at position 0\n",
    "print_array(y)\n",
    "\n",
    "y = np.expand_dims(x, axis=1) # Add a single-dimension axis at position 1\n",
    "print_array(y)\n",
    "\n",
    "y = np.expand_dims(x, axis=2) # Add a single-dimension axis at position 2\n",
    "print_array(y)"
   ]
  },
  {
   "cell_type": "markdown",
   "metadata": {},
   "source": [
    "### Squeeze\n",
    "\n",
    "numpy.squeeze : Remove single-dimensional entries from the shape of an array"
   ]
  },
  {
   "cell_type": "code",
   "execution_count": 21,
   "metadata": {},
   "outputs": [
    {
     "name": "stdout",
     "output_type": "stream",
     "text": [
      "Tensor shape: (2, 3)\n",
      "2-Tensor:\n",
      "[[9 4 0]\n",
      " [9 5 0]]\n",
      "\n",
      "Tensor shape: (2, 3)\n",
      "2-Tensor:\n",
      "[[9 4 0]\n",
      " [9 5 0]]\n",
      "\n",
      "Tensor shape: (2, 3, 1)\n",
      "3-Tensor:\n",
      "[[[3]\n",
      "  [8]\n",
      "  [1]]\n",
      "\n",
      " [[1]\n",
      "  [3]\n",
      "  [3]]]\n",
      "\n",
      "Tensor shape: (2, 3)\n",
      "2-Tensor:\n",
      "[[3 8 1]\n",
      " [1 3 3]]\n",
      "\n",
      "7-Tensor shape: (1, 2, 1, 3, 1, 1, 1)\n",
      "\n",
      "Tensor shape: (2, 3)\n",
      "2-Tensor:\n",
      "[[0 4 5]\n",
      " [3 7 8]]\n",
      "\n"
     ]
    }
   ],
   "source": [
    "# 2D\n",
    "x = np.random.randint(10, size=(d1, d2))\n",
    "print_array(x)\n",
    "\n",
    "y = np.squeeze(x) # Nothing happens because no 1-dims\n",
    "print_array(y)\n",
    "\n",
    "x = np.random.randint(10, size=(d1, d2, 1))\n",
    "print_array(x)\n",
    "\n",
    "y = np.squeeze(x) # Removes the single-dim\n",
    "print_array(y)\n",
    "\n",
    "x = np.random.randint(10, size=(1, d1, 1, d2, 1, 1, 1))\n",
    "print_array(x)\n",
    "\n",
    "y = np.squeeze(x) # Removes every single-dim\n",
    "print_array(y)"
   ]
  },
  {
   "cell_type": "markdown",
   "metadata": {},
   "source": [
    "## Joining tensors"
   ]
  },
  {
   "cell_type": "markdown",
   "metadata": {},
   "source": [
    "### Concatenate\n",
    "\n",
    "numpy.concatenate : Join a sequence of tensors along an existing axis"
   ]
  },
  {
   "cell_type": "code",
   "execution_count": 32,
   "metadata": {},
   "outputs": [
    {
     "name": "stdout",
     "output_type": "stream",
     "text": [
      "Tensor shape: (3, 3)\n",
      "2-Tensor:\n",
      "[[3 2 0]\n",
      " [9 5 2]\n",
      " [3 1 9]]\n",
      "\n",
      "Tensor shape: (4, 3)\n",
      "2-Tensor:\n",
      "[[7 8 3]\n",
      " [7 9 2]\n",
      " [0 0 4]\n",
      " [2 5 3]]\n",
      "\n",
      "Tensor shape: (7, 3)\n",
      "2-Tensor:\n",
      "[[3 2 0]\n",
      " [9 5 2]\n",
      " [3 1 9]\n",
      " [7 8 3]\n",
      " [7 9 2]\n",
      " [0 0 4]\n",
      " [2 5 3]]\n",
      "\n",
      "Tensor shape: (2, 3, 4)\n",
      "3-Tensor:\n",
      "[[[7 3 8 2]\n",
      "  [1 7 5 2]\n",
      "  [9 7 2 3]]\n",
      "\n",
      " [[5 3 4 6]\n",
      "  [4 7 6 7]\n",
      "  [3 5 0 1]]]\n",
      "\n",
      "Tensor shape: (2, 3, 3)\n",
      "3-Tensor:\n",
      "[[[3 5 5]\n",
      "  [9 6 0]\n",
      "  [3 1 2]]\n",
      "\n",
      " [[9 8 1]\n",
      "  [0 2 5]\n",
      "  [4 4 4]]]\n",
      "\n",
      "Tensor shape: (2, 3, 7)\n",
      "3-Tensor:\n",
      "[[[7 3 8 2 3 5 5]\n",
      "  [1 7 5 2 9 6 0]\n",
      "  [9 7 2 3 3 1 2]]\n",
      "\n",
      " [[5 3 4 6 9 8 1]\n",
      "  [4 7 6 7 0 2 5]\n",
      "  [3 5 0 1 4 4 4]]]\n",
      "\n"
     ]
    }
   ],
   "source": [
    "# 2D\n",
    "x1 = np.random.randint(10, size=(3, d2))\n",
    "print_array(x1)\n",
    "x2 = np.random.randint(10, size=(4, d2))\n",
    "print_array(x2)\n",
    "\n",
    "y = np.concatenate([x1,x2], axis=0)\n",
    "print_array(y)\n",
    "\n",
    "# 3D\n",
    "x1 = np.random.randint(10, size=(d1, d2, 4))\n",
    "print_array(x1)\n",
    "x2 = np.random.randint(10, size=(d1, d2, 3))\n",
    "print_array(x2)\n",
    "\n",
    "y = np.concatenate([x1,x2], axis=2)\n",
    "print_array(y)"
   ]
  },
  {
   "cell_type": "markdown",
   "metadata": {},
   "source": [
    "## Stack\n",
    "\n",
    "numpy.stack : Join a sequence of tensors along a new axis"
   ]
  },
  {
   "cell_type": "code",
   "execution_count": 41,
   "metadata": {},
   "outputs": [
    {
     "name": "stdout",
     "output_type": "stream",
     "text": [
      "Tensor shape: (3, 4)\n",
      "2-Tensor:\n",
      "[[4 3 8 1]\n",
      " [9 2 3 9]\n",
      " [1 7 2 1]]\n",
      "\n",
      "Tensor shape: (3, 4)\n",
      "2-Tensor:\n",
      "[[9 5 1 5]\n",
      " [7 6 1 8]\n",
      " [4 3 9 2]]\n",
      "\n",
      "Tensor shape: (2, 3, 4)\n",
      "3-Tensor:\n",
      "[[[4 3 8 1]\n",
      "  [9 2 3 9]\n",
      "  [1 7 2 1]]\n",
      "\n",
      " [[9 5 1 5]\n",
      "  [7 6 1 8]\n",
      "  [4 3 9 2]]]\n",
      "\n",
      "Tensor shape: (3, 2, 4)\n",
      "3-Tensor:\n",
      "[[[4 3 8 1]\n",
      "  [9 5 1 5]]\n",
      "\n",
      " [[9 2 3 9]\n",
      "  [7 6 1 8]]\n",
      "\n",
      " [[1 7 2 1]\n",
      "  [4 3 9 2]]]\n",
      "\n",
      "Tensor shape: (3, 4, 2)\n",
      "3-Tensor:\n",
      "[[[4 9]\n",
      "  [3 5]\n",
      "  [8 1]\n",
      "  [1 5]]\n",
      "\n",
      " [[9 7]\n",
      "  [2 6]\n",
      "  [3 1]\n",
      "  [9 8]]\n",
      "\n",
      " [[1 4]\n",
      "  [7 3]\n",
      "  [2 9]\n",
      "  [1 2]]]\n",
      "\n"
     ]
    }
   ],
   "source": [
    "# 2D\n",
    "x1 = np.random.randint(10, size=(d2, d3))\n",
    "print_array(x1)\n",
    "x2 = np.random.randint(10, size=(d2, d3))\n",
    "print_array(x2)\n",
    "\n",
    "y = np.stack([x1,x2], axis=0) # Stack the tensors over axis 0\n",
    "print_array(y)\n",
    "\n",
    "y = np.stack([x1,x2], axis=1) # Stack the tensors over axis 1\n",
    "print_array(y)\n",
    "\n",
    "y = np.stack([x1,x2], axis=2) # Stack the tensors over axis 2\n",
    "print_array(y)"
   ]
  },
  {
   "cell_type": "markdown",
   "metadata": {},
   "source": [
    "## Splitting tensors"
   ]
  },
  {
   "cell_type": "markdown",
   "metadata": {},
   "source": [
    "### Split\n",
    "\n",
    "numpy.split : Split a tensor into multiple tensors"
   ]
  },
  {
   "cell_type": "code",
   "execution_count": 59,
   "metadata": {},
   "outputs": [
    {
     "name": "stdout",
     "output_type": "stream",
     "text": [
      "Tensor shape: (2, 3)\n",
      "2-Tensor:\n",
      "[[5 7 0]\n",
      " [7 4 0]]\n",
      "\n",
      "Tensor shape: (1, 3)\n",
      "2-Tensor:\n",
      "[[5 7 0]]\n",
      "\n",
      "Tensor shape: (1, 3)\n",
      "2-Tensor:\n",
      "[[7 4 0]]\n",
      "\n",
      "Tensor shape: (4, 3, 2)\n",
      "3-Tensor:\n",
      "[[[4 2]\n",
      "  [4 2]\n",
      "  [7 1]]\n",
      "\n",
      " [[3 3]\n",
      "  [5 5]\n",
      "  [3 2]]\n",
      "\n",
      " [[2 9]\n",
      "  [3 9]\n",
      "  [4 3]]\n",
      "\n",
      " [[2 0]\n",
      "  [3 9]\n",
      "  [7 5]]]\n",
      "\n",
      "Tensor shape: (2, 3, 2)\n",
      "3-Tensor:\n",
      "[[[4 2]\n",
      "  [4 2]\n",
      "  [7 1]]\n",
      "\n",
      " [[3 3]\n",
      "  [5 5]\n",
      "  [3 2]]]\n",
      "\n",
      "Tensor shape: (2, 3, 2)\n",
      "3-Tensor:\n",
      "[[[2 9]\n",
      "  [3 9]\n",
      "  [4 3]]\n",
      "\n",
      " [[2 0]\n",
      "  [3 9]\n",
      "  [7 5]]]\n",
      "\n",
      "Tensor shape: (1, 3, 2)\n",
      "3-Tensor:\n",
      "[[[4 2]\n",
      "  [4 2]\n",
      "  [7 1]]]\n",
      "\n",
      "Tensor shape: (1, 3, 2)\n",
      "3-Tensor:\n",
      "[[[3 3]\n",
      "  [5 5]\n",
      "  [3 2]]]\n",
      "\n",
      "Tensor shape: (1, 3, 2)\n",
      "3-Tensor:\n",
      "[[[2 9]\n",
      "  [3 9]\n",
      "  [4 3]]]\n",
      "\n",
      "Tensor shape: (1, 3, 2)\n",
      "3-Tensor:\n",
      "[[[2 0]\n",
      "  [3 9]\n",
      "  [7 5]]]\n",
      "\n"
     ]
    }
   ],
   "source": [
    "# 2D\n",
    "x1 = np.random.randint(10, size=(d1, d2))\n",
    "print_array(x1)\n",
    "\n",
    "ys = np.split(x1, indices_or_sections=2)\n",
    "for y in ys:\n",
    "    print_array(y)\n",
    "    \n",
    "    \n",
    "# 3D\n",
    "x1 = np.random.randint(10, size=(d3, d2, d1))\n",
    "print_array(x1)\n",
    "\n",
    "ys = np.split(x1, indices_or_sections=2) # 2 splits over axis 0\n",
    "for y in ys:\n",
    "    print_array(y)\n",
    "    \n",
    "ys = np.split(x1, indices_or_sections=4) # 4 splits over axis 0\n",
    "for y in ys:\n",
    "    print_array(y)"
   ]
  }
 ],
 "metadata": {
  "kernelspec": {
   "display_name": "Python 3",
   "language": "python",
   "name": "python3"
  },
  "language_info": {
   "codemirror_mode": {
    "name": "ipython",
    "version": 3
   },
   "file_extension": ".py",
   "mimetype": "text/x-python",
   "name": "python",
   "nbconvert_exporter": "python",
   "pygments_lexer": "ipython3",
   "version": "3.6.1"
  }
 },
 "nbformat": 4,
 "nbformat_minor": 2
}
